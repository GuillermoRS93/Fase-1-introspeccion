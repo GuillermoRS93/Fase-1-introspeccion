{
  "nbformat": 4,
  "nbformat_minor": 0,
  "metadata": {
    "colab": {
      "provenance": []
    },
    "kernelspec": {
      "name": "ir",
      "display_name": "R"
    },
    "language_info": {
      "name": "R"
    }
  },
  "cells": [
    {
      "cell_type": "code",
      "execution_count": 1,
      "metadata": {
        "colab": {
          "base_uri": "https://localhost:8080/"
        },
        "id": "v8KLJKqzFYDR",
        "outputId": "b1d8246a-cdf1-4378-d89b-c03ffe3fe577"
      },
      "outputs": [
        {
          "output_type": "stream",
          "name": "stdout",
          "text": [
            "[1] 399168000\n"
          ]
        }
      ],
      "source": [
        "\n",
        "numeros <- 2:11\n",
        "\n",
        "resultado <- prod(numeros) * 10\n",
        "\n",
        "print(resultado)"
      ]
    },
    {
      "cell_type": "code",
      "source": [
        "#Metodo bucle\n",
        "\n",
        "suma <- 0\n",
        "\n",
        "for (num in 10:400) {\n",
        "  \n",
        "  suma <- suma + num\n",
        "}\n",
        "\n",
        "\n",
        "cat(\"La suma utilizando un bucle for es:\", suma, \"\\n\")"
      ],
      "metadata": {
        "colab": {
          "base_uri": "https://localhost:8080/"
        },
        "id": "IhZms6DbLVa6",
        "outputId": "e04b032d-938c-403e-86b3-70c9580213d2"
      },
      "execution_count": 2,
      "outputs": [
        {
          "output_type": "stream",
          "name": "stdout",
          "text": [
            "La suma utilizando un bucle for es: 80155 \n"
          ]
        }
      ]
    },
    {
      "cell_type": "code",
      "source": [
        "#Funcion sum \n",
        "\n",
        "suma <- sum(10:400)\n",
        "\n",
        "cat(\"La suma utilizando la función sum es:\", suma, \"\\n\")"
      ],
      "metadata": {
        "colab": {
          "base_uri": "https://localhost:8080/"
        },
        "id": "TpQ0i3oIL95X",
        "outputId": "182946d4-a725-4d18-e08d-88f5c0627ea6"
      },
      "execution_count": 3,
      "outputs": [
        {
          "output_type": "stream",
          "name": "stdout",
          "text": [
            "La suma utilizando la función sum es: 80155 \n"
          ]
        }
      ]
    },
    {
      "cell_type": "code",
      "source": [
        "#Bucle\n",
        "\n",
        "producto <- 1\n",
        "\n",
        "for (num in 10:400) {\n",
        "  producto <- producto * num\n",
        "}\n",
        "\n",
        "cat(\"El producto utilizando un bucle for es:\", producto, \"\\n\")"
      ],
      "metadata": {
        "colab": {
          "base_uri": "https://localhost:8080/"
        },
        "id": "mKwXyMMvOZ-7",
        "outputId": "4f2226bf-f2a2-4fed-8cf1-8d489fa5a88b"
      },
      "execution_count": 4,
      "outputs": [
        {
          "output_type": "stream",
          "name": "stdout",
          "text": [
            "El producto utilizando un bucle for es: Inf \n"
          ]
        }
      ]
    },
    {
      "cell_type": "code",
      "source": [
        "#funcion prod\n",
        "\n",
        "producto <- prod(10:400)\n",
        "\n",
        "cat(\"El producto utilizando la función prod es:\", producto, \"\\n\")"
      ],
      "metadata": {
        "colab": {
          "base_uri": "https://localhost:8080/"
        },
        "id": "ReEAA91rOoZl",
        "outputId": "d7d981b1-7f54-4152-d0c7-c56b393d4f83"
      },
      "execution_count": 5,
      "outputs": [
        {
          "output_type": "stream",
          "name": "stdout",
          "text": [
            "El producto utilizando la función prod es: Inf \n"
          ]
        }
      ]
    },
    {
      "cell_type": "code",
      "source": [
        "\n",
        "vector <- runif(20)\n",
        "\n",
        "cat(\"Vector original:\", vector, \"\\n\")\n",
        "\n",
        "vector_ordenado <- sort(vector, decreasing = TRUE)\n",
        "\n",
        "cat(\"Vector ordenado de mayor a menor:\", vector_ordenado, \"\\n\")"
      ],
      "metadata": {
        "colab": {
          "base_uri": "https://localhost:8080/"
        },
        "id": "xjv-27WwPTeD",
        "outputId": "3e00e986-80dd-4b62-eff3-98edf92abd9b"
      },
      "execution_count": 6,
      "outputs": [
        {
          "output_type": "stream",
          "name": "stdout",
          "text": [
            "Vector original: 0.03789993 0.4205068 0.01904507 0.8494736 0.3194328 0.18034 0.07967801 0.5064685 0.783649 0.2505491 0.3428972 0.1624335 0.2429559 0.3500694 0.3133611 0.1202028 0.4756007 0.5673714 0.8375492 0.07845048 \n",
            "Vector ordenado de mayor a menor: 0.8494736 0.8375492 0.783649 0.5673714 0.5064685 0.4756007 0.4205068 0.3500694 0.3428972 0.3194328 0.3133611 0.2505491 0.2429559 0.18034 0.1624335 0.1202028 0.07967801 0.07845048 0.03789993 0.01904507 \n"
          ]
        }
      ]
    },
    {
      "cell_type": "code",
      "source": [
        "\n",
        "fibonacci <- function(n) {\n",
        "  fib <- numeric(n)\n",
        "  \n",
        "  fib[1] <- 0\n",
        "  fib[2] <- 1\n",
        "  \n",
        "  for (i in 3:n) {\n",
        "    fib[i] <- fib[i-1] + fib[i-2]\n",
        "  }\n",
        "\n",
        "  return(fib)\n",
        "}\n",
        "\n",
        "resultado <- fibonacci(20)\n",
        "\n",
        "cat(\"Los primeros 20 números de Fibonacci son:\", resultado, \"\\n\")"
      ],
      "metadata": {
        "colab": {
          "base_uri": "https://localhost:8080/"
        },
        "id": "6qcTBUw4Pplk",
        "outputId": "5ad002ef-57ed-4499-8116-c5c26ccb15f0"
      },
      "execution_count": 7,
      "outputs": [
        {
          "output_type": "stream",
          "name": "stdout",
          "text": [
            "Los primeros 20 números de Fibonacci son: 0 1 1 2 3 5 8 13 21 34 55 89 144 233 377 610 987 1597 2584 4181 \n"
          ]
        }
      ]
    }
  ]
}