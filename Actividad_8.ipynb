{
  "nbformat": 4,
  "nbformat_minor": 0,
  "metadata": {
    "colab": {
      "provenance": []
    },
    "kernelspec": {
      "name": "ir",
      "display_name": "R"
    },
    "language_info": {
      "name": "R"
    }
  },
  "cells": [
    {
      "cell_type": "code",
      "execution_count": 1,
      "metadata": {
        "colab": {
          "base_uri": "https://localhost:8080/"
        },
        "id": "bwDzWQqh0xMo",
        "outputId": "99106833-059b-4922-efce-a343a3a4d72a"
      },
      "outputs": [
        {
          "output_type": "stream",
          "name": "stdout",
          "text": [
            "[1] 12\n",
            "[1] 22\n",
            "[1] 600\n"
          ]
        }
      ],
      "source": [
        "\n",
        "answer <- 0\n",
        "for (j in 3:5) {\n",
        "  answer <- j + answer\n",
        "}\n",
        "print(answer)\n",
        "\n",
        "\n",
        "answer <- 10\n",
        "for (j in 3:5) {\n",
        "  answer <- j + answer\n",
        "}\n",
        "print(answer)\n",
        "\n",
        "\n",
        "answer <- 10\n",
        "for (j in 3:5) {\n",
        "  answer <- j * answer\n",
        "}\n",
        "print(answer)"
      ]
    }
  ]
}