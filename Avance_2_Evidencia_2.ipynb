{
  "nbformat": 4,
  "nbformat_minor": 0,
  "metadata": {
    "colab": {
      "provenance": []
    },
    "kernelspec": {
      "name": "python3",
      "display_name": "Python 3"
    },
    "language_info": {
      "name": "python"
    }
  },
  "cells": [
    {
      "cell_type": "code",
      "source": [
        "\n",
        "import pandas as pd\n",
        "\n",
        "\n",
        "from google.colab import drive\n",
        "drive.mount('/content/drive')\n",
        "\n",
        "file_path = '/content/drive/MyDrive/Resultados-MPSG-Open-Data-oct10-feb20.xlsx'\n",
        "\n",
        "\n",
        "df = pd.read_excel (file_path)\n",
        "\n",
        "\n",
        "print(df)"
      ],
      "metadata": {
        "colab": {
          "base_uri": "https://localhost:8080/"
        },
        "id": "mWfhZsWmcea5",
        "outputId": "9c71b511-911b-4e0d-d2ef-3c0a7a5b3429"
      },
      "execution_count": 1,
      "outputs": [
        {
          "output_type": "stream",
          "name": "stdout",
          "text": [
            "Mounted at /content/drive\n",
            "      Mecanismo de Participación Social en Guarderías Column1  \\\n",
            "0   Resultados de las visitas realizadas (octubre ...     NaN   \n",
            "1                                                 NaN     NaN   \n",
            "2                                                No.      Mes   \n",
            "3                                                   1  oct-10   \n",
            "4                                                   2  oct-10   \n",
            "..                                                ...     ...   \n",
            "60                                                 58  oct-10   \n",
            "61                                                 59  oct-10   \n",
            "62                                                 60  oct-10   \n",
            "63                                                 61  oct-10   \n",
            "64                                                 62  oct-10   \n",
            "\n",
            "                                       _1                         _2       _3  \\\n",
            "0                                     NaN                        NaN      NaN   \n",
            "1                                     NaN                        NaN      NaN   \n",
            "2                             Delegación                   Localidad  Esquema   \n",
            "3                      09CIUDAD DE MÉXICO        09016MIGUEL HIDALGO        U   \n",
            "4                      09CIUDAD DE MÉXICO     09005GUSTAVO A. MADERO        U   \n",
            "..                                    ...                        ...      ...   \n",
            "60  14JALISCO                                       14039GUADALAJARA        U   \n",
            "61  14JALISCO                                       14039GUADALAJARA        U   \n",
            "62  14JALISCO                                   14053LAGOS DE MORENO        U   \n",
            "63  14JALISCO                              14097TLAJOMULCO DE ZÚÑIGA        U   \n",
            "64  14JALISCO                                            14101TONALÁ        U   \n",
            "\n",
            "        _4                                               _5   _6   _7   _8  \\\n",
            "0      NaN                                              NaN  NaN  NaN  NaN   \n",
            "1      NaN                                              NaN  NaN  NaN  NaN   \n",
            "2   Número                                           Nombre  2.1  2.2  2.3   \n",
            "3      629                              MUNDO DE LOS PEQUES  1.0  1.0  1.0   \n",
            "4     1402                   GUARDERIA EL ARBOL DE LA NIÑEZ  1.0  1.0  1.0   \n",
            "..     ...                                              ...  ...  ...  ...   \n",
            "60    1079                          CENTRO INFANTIL FROEBEL  1.0  1.0  1.0   \n",
            "61    1182  SERVICIOS DE ATENCIÓN Y DESARROLLO HUMANO, S.C.  1.0  1.0  1.0   \n",
            "62    1089                                          CUALCAN  1.0  1.0  1.0   \n",
            "63    1073          ESTANCIAS EDUCATIVAS FROEBEL(LA TIJERA)  1.0  1.0  1.0   \n",
            "64    1377                          LA GUARDERÍA DE MAMÁ II  1.0  1.0  1.0   \n",
            "\n",
            "    ...   _73   _74   _75   _76   _77             _78                _79  \\\n",
            "0   ...   NaN   NaN   NaN   NaN   NaN             NaN                NaN   \n",
            "1   ...   NaN   NaN   NaN   NaN   NaN             NaN                NaN   \n",
            "2   ...  12.6  12.7  12.8  14.1  14.2  Puntos máximos  Puntos alcanzados   \n",
            "3   ...   1.0    SI   0.0   1.0   1.0              71                 70   \n",
            "4   ...   1.0    SI   0.0   1.0   1.0              71                 70   \n",
            "..  ...   ...   ...   ...   ...   ...             ...                ...   \n",
            "60  ...   1.0    SI   0.0   1.0   1.0              71                 69   \n",
            "61  ...   1.0    SI   1.0   1.0   1.0              71                 71   \n",
            "62  ...   1.0    NO   NaN   1.0   1.0              70                 69   \n",
            "63  ...   1.0    NO   NaN   1.0   1.0              70                 70   \n",
            "64  ...   1.0    SI   1.0   1.0   1.0              71                 71   \n",
            "\n",
            "      _80            _81     _82  \n",
            "0     NaN            NaN     NaN  \n",
            "1     NaN            NaN     NaN  \n",
            "2       %  No. de Padres  Horas   \n",
            "3   98.59              7      14  \n",
            "4   98.59              7      14  \n",
            "..    ...            ...     ...  \n",
            "60  97.18              4       8  \n",
            "61    100              6      12  \n",
            "62  98.57              6      12  \n",
            "63    100              5      10  \n",
            "64    100              4       8  \n",
            "\n",
            "[65 rows x 84 columns]\n"
          ]
        }
      ]
    }
  ]
}