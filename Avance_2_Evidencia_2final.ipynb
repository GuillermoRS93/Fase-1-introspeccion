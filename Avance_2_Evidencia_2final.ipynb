{
  "nbformat": 4,
  "nbformat_minor": 0,
  "metadata": {
    "colab": {
      "provenance": []
    },
    "kernelspec": {
      "name": "python3",
      "display_name": "Python 3"
    },
    "language_info": {
      "name": "python"
    }
  },
  "cells": [
    {
      "cell_type": "code",
      "source": [
        "\n",
        "import pandas as pd\n",
        "\n",
        "\n",
        "from google.colab import drive\n",
        "drive.mount('/content/drive')\n",
        "\n",
        "file_path = '/content/drive/MyDrive/Resultados-MPSG-Open-Data-oct10-feb20.xlsx'\n",
        "\n",
        "\n",
        "df = pd.read_excel (file_path)\n",
        "\n",
        "\n",
        "print(df)"
      ],
      "metadata": {
        "colab": {
          "base_uri": "https://localhost:8080/"
        },
        "id": "mWfhZsWmcea5",
        "outputId": "dc5ac160-6a22-44ad-a881-59e59a71e66c"
      },
      "execution_count": 10,
      "outputs": [
        {
          "output_type": "stream",
          "name": "stdout",
          "text": [
            "Drive already mounted at /content/drive; to attempt to forcibly remount, call drive.mount(\"/content/drive\", force_remount=True).\n",
            "      Mecanismo de Participación Social en Guarderías Column1  \\\n",
            "0   Resultados de las visitas realizadas (octubre ...     NaN   \n",
            "1                                                 NaN     NaN   \n",
            "2                                                No.      Mes   \n",
            "3                                                   1  oct-10   \n",
            "4                                                   2  oct-10   \n",
            "..                                                ...     ...   \n",
            "60                                                 58  oct-10   \n",
            "61                                                 59  oct-10   \n",
            "62                                                 60  oct-10   \n",
            "63                                                 61  oct-10   \n",
            "64                                                 62  oct-10   \n",
            "\n",
            "                                       _1                         _2       _3  \\\n",
            "0                                     NaN                        NaN      NaN   \n",
            "1                                     NaN                        NaN      NaN   \n",
            "2                             Delegación                   Localidad  Esquema   \n",
            "3                      09CIUDAD DE MÉXICO        09016MIGUEL HIDALGO        U   \n",
            "4                      09CIUDAD DE MÉXICO     09005GUSTAVO A. MADERO        U   \n",
            "..                                    ...                        ...      ...   \n",
            "60  14JALISCO                                       14039GUADALAJARA        U   \n",
            "61  14JALISCO                                       14039GUADALAJARA        U   \n",
            "62  14JALISCO                                   14053LAGOS DE MORENO        U   \n",
            "63  14JALISCO                              14097TLAJOMULCO DE ZÚÑIGA        U   \n",
            "64  14JALISCO                                            14101TONALÁ        U   \n",
            "\n",
            "        _4                                               _5   _6   _7   _8  \\\n",
            "0      NaN                                              NaN  NaN  NaN  NaN   \n",
            "1      NaN                                              NaN  NaN  NaN  NaN   \n",
            "2   Número                                           Nombre  2.1  2.2  2.3   \n",
            "3      629                              MUNDO DE LOS PEQUES  1.0  1.0  1.0   \n",
            "4     1402                   GUARDERIA EL ARBOL DE LA NIÑEZ  1.0  1.0  1.0   \n",
            "..     ...                                              ...  ...  ...  ...   \n",
            "60    1079                          CENTRO INFANTIL FROEBEL  1.0  1.0  1.0   \n",
            "61    1182  SERVICIOS DE ATENCIÓN Y DESARROLLO HUMANO, S.C.  1.0  1.0  1.0   \n",
            "62    1089                                          CUALCAN  1.0  1.0  1.0   \n",
            "63    1073          ESTANCIAS EDUCATIVAS FROEBEL(LA TIJERA)  1.0  1.0  1.0   \n",
            "64    1377                          LA GUARDERÍA DE MAMÁ II  1.0  1.0  1.0   \n",
            "\n",
            "    ...   _73   _74   _75   _76   _77             _78                _79  \\\n",
            "0   ...   NaN   NaN   NaN   NaN   NaN             NaN                NaN   \n",
            "1   ...   NaN   NaN   NaN   NaN   NaN             NaN                NaN   \n",
            "2   ...  12.6  12.7  12.8  14.1  14.2  Puntos máximos  Puntos alcanzados   \n",
            "3   ...   1.0    SI   0.0   1.0   1.0              71                 70   \n",
            "4   ...   1.0    SI   0.0   1.0   1.0              71                 70   \n",
            "..  ...   ...   ...   ...   ...   ...             ...                ...   \n",
            "60  ...   1.0    SI   0.0   1.0   1.0              71                 69   \n",
            "61  ...   1.0    SI   1.0   1.0   1.0              71                 71   \n",
            "62  ...   1.0    NO   NaN   1.0   1.0              70                 69   \n",
            "63  ...   1.0    NO   NaN   1.0   1.0              70                 70   \n",
            "64  ...   1.0    SI   1.0   1.0   1.0              71                 71   \n",
            "\n",
            "      _80            _81     _82  \n",
            "0     NaN            NaN     NaN  \n",
            "1     NaN            NaN     NaN  \n",
            "2       %  No. de Padres  Horas   \n",
            "3   98.59              7      14  \n",
            "4   98.59              7      14  \n",
            "..    ...            ...     ...  \n",
            "60  97.18              4       8  \n",
            "61    100              6      12  \n",
            "62  98.57              6      12  \n",
            "63    100              5      10  \n",
            "64    100              4       8  \n",
            "\n",
            "[65 rows x 84 columns]\n"
          ]
        }
      ]
    },
    {
      "cell_type": "code",
      "source": [
        "import pandas as pd\n",
        "\n",
        "\n",
        "\n",
        "def preguntas_menos_respondidas(df):\n",
        "    preguntas_count = df.iloc[:, 5:].count()\n",
        "    preguntas_mean = preguntas_count.mean()\n",
        "    return preguntas_count[preguntas_count < preguntas_mean].index.tolist()\n"
      ],
      "metadata": {
        "id": "Yl_WNMyLFm7t"
      },
      "execution_count": 13,
      "outputs": []
    },
    {
      "cell_type": "code",
      "source": [
        "import pandas as pd\n",
        "\n",
        "def porcentaje_respuestas_por_localidad(df):\n",
        "    df_count = df.groupby('Localidad').count().iloc[:, 5:]\n",
        "    df_total = df_count.sum(axis=1)\n",
        "    return df_count.apply(lambda x: round((x/df_total)*100, 2))\n"
      ],
      "metadata": {
        "id": "b1gQyJMMFrSD"
      },
      "execution_count": null,
      "outputs": []
    },
    {
      "cell_type": "code",
      "source": [
        "import pandas as pd\n",
        "\n",
        "def porcentaje_participacion(df):\n",
        "    df_count = df.groupby('Delegación')['Nombre'].count()\n",
        "    df_total = df_count.sum()\n",
        "    return df_count.apply(lambda x: round((x/df_total)*100, 2))\n"
      ],
      "metadata": {
        "id": "O53Pwa1SFijg"
      },
      "execution_count": 14,
      "outputs": []
    },
    {
      "cell_type": "code",
      "source": [
        "import pandas as pd\n",
        "\n",
        "def delegacion_mas_localidades(df):\n",
        "    df_count = df.groupby('Delegación')['Localidad'].nunique()\n",
        "    return df_count.idxmax()\n"
      ],
      "metadata": {
        "id": "WrJYVl-eFg40"
      },
      "execution_count": 16,
      "outputs": []
    }
  ]
}