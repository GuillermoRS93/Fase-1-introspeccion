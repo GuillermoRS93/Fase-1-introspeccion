{
 "cells": [
  {
   "cell_type": "code",
   "execution_count": 1,
   "id": "4ce43d40",
   "metadata": {},
   "outputs": [],
   "source": [
    "intro = \"Bienvenido al curso de prgramcion, aqui encontraras una introducción\""
   ]
  },
  {
   "cell_type": "code",
   "execution_count": 2,
   "id": "010ec164",
   "metadata": {},
   "outputs": [],
   "source": [
    "nombre = \"Guillermo robles\""
   ]
  },
  {
   "cell_type": "code",
   "execution_count": 3,
   "id": "1c6f3b95",
   "metadata": {},
   "outputs": [],
   "source": [
    "universidad = \"tecmilenio\""
   ]
  },
  {
   "cell_type": "code",
   "execution_count": 4,
   "id": "5cb9db66",
   "metadata": {},
   "outputs": [
    {
     "name": "stdout",
     "output_type": "stream",
     "text": [
      "hola Guillermo robles,tecmilenio,Bienvenido al curso de prgramcion, aqui encontraras una introducción \n"
     ]
    }
   ],
   "source": [
    "print(f\"hola {nombre},{universidad},{intro} \")"
   ]
  },
  {
   "cell_type": "code",
   "execution_count": null,
   "id": "fc91cb50",
   "metadata": {},
   "outputs": [],
   "source": []
  }
 ],
 "metadata": {
  "kernelspec": {
   "display_name": "Python 3 (ipykernel)",
   "language": "python",
   "name": "python3"
  },
  "language_info": {
   "codemirror_mode": {
    "name": "ipython",
    "version": 3
   },
   "file_extension": ".py",
   "mimetype": "text/x-python",
   "name": "python",
   "nbconvert_exporter": "python",
   "pygments_lexer": "ipython3",
   "version": "3.9.7"
  }
 },
 "nbformat": 4,
 "nbformat_minor": 5
}
